{
 "cells": [
  {
   "cell_type": "markdown",
   "id": "d67695da",
   "metadata": {},
   "source": [
    "# Getting started"
   ]
  },
  {
   "cell_type": "markdown",
   "id": "70854171",
   "metadata": {},
   "source": [
    "## Creating a neural network\n",
    "\n",
    "`spikelearn` instantiates a network using the `SpikingNet` class as follows"
   ]
  },
  {
   "cell_type": "code",
   "execution_count": 1,
   "id": "c06073fe",
   "metadata": {},
   "outputs": [],
   "source": [
    "from spikelearn import SpikingNet"
   ]
  },
  {
   "cell_type": "code",
   "execution_count": 2,
   "id": "7bcdde71",
   "metadata": {},
   "outputs": [],
   "source": [
    "snn = SpikingNet()"
   ]
  },
  {
   "cell_type": "markdown",
   "id": "56e6378a",
   "metadata": {},
   "source": [
    "A `SpikingNet` object contains layers, synapses, and inputs. You can also define outputs that are returned at each timestep to track the status of the network. Let's start creating a single Layer of leaky integrate and fire neurons:"
   ]
  },
  {
   "cell_type": "code",
   "execution_count": 3,
   "id": "8ef2c93c",
   "metadata": {},
   "outputs": [],
   "source": [
    "from spikelearn.neurons import LIFLayer"
   ]
  },
  {
   "cell_type": "code",
   "execution_count": 4,
   "id": "c01d8f05",
   "metadata": {},
   "outputs": [],
   "source": [
    "layer = LIFLayer(20, 4)"
   ]
  },
  {
   "cell_type": "markdown",
   "id": "ee7e68d6",
   "metadata": {},
   "source": [
    "this creates a layer comprising 20 neurons with a leakage time equal to 4 timesteps. Next, we add it to the `SpikingNet` object:"
   ]
  },
  {
   "cell_type": "code",
   "execution_count": 5,
   "id": "8d3d4384",
   "metadata": {},
   "outputs": [],
   "source": [
    "snn.add_layer(layer, \"neuron_layer\")"
   ]
  },
  {
   "cell_type": "markdown",
   "id": "5a0afaf7",
   "metadata": {},
   "source": [
    "The `add_layer` method requires two arguments: the layer object, and a name that we will use to refer to this layer.\n",
    "\n",
    "The second type of object that we can have inside a SpikingNet is an external input. Inputs provide the interface with the extenral world."
   ]
  },
  {
   "cell_type": "code",
   "execution_count": 6,
   "id": "eb755e14",
   "metadata": {},
   "outputs": [],
   "source": [
    "snn.add_input(\"my_input\")"
   ]
  },
  {
   "cell_type": "markdown",
   "id": "880bfcb0",
   "metadata": {},
   "source": [
    "Much like the neuron layer, each input requires a name. The next step is to create a synapse connecting the inputs to our layer. In order to do that, we need first to create a synapse object:"
   ]
  },
  {
   "cell_type": "code",
   "execution_count": 7,
   "id": "2ebba363",
   "metadata": {},
   "outputs": [],
   "source": [
    "from spikelearn import StaticSynapse\n",
    "import numpy as np"
   ]
  },
  {
   "cell_type": "code",
   "execution_count": 8,
   "id": "4e0ea55e",
   "metadata": {},
   "outputs": [],
   "source": [
    "W = np.random.random((20,10))\n",
    "syn = StaticSynapse(10, 20, W)"
   ]
  },
  {
   "cell_type": "markdown",
   "id": "ec4dffff",
   "metadata": {},
   "source": [
    "This creates a static synapse connecting 10 presynaptic neurons to 20 postsynaptic neurons through a 2D array of static weights `W`. Now we can use this synapse to connect our input and our neuron layer in the `SpikingNet` object:"
   ]
  },
  {
   "cell_type": "code",
   "execution_count": 9,
   "id": "656c0254",
   "metadata": {},
   "outputs": [],
   "source": [
    "snn.add_synapse(\"neuron_layer\", syn, \"my_input\")"
   ]
  },
  {
   "cell_type": "markdown",
   "id": "4c8c7e14",
   "metadata": {},
   "source": [
    "When calling `add_synapse`, we add the postsynaptic layer first, followed by the synapse object, and the\n",
    "presynaptic neuron. We can have synapses with more than one type of presynaptic neuron. Also, the name of the\n",
    "layers must exist."
   ]
  },
  {
   "cell_type": "markdown",
   "id": "0f72adf1",
   "metadata": {},
   "source": [
    "## Defining outputs and running the network"
   ]
  },
  {
   "cell_type": "markdown",
   "id": "eda5021d",
   "metadata": {},
   "source": [
    "In order to track the state of the network we need to define outputs:"
   ]
  },
  {
   "cell_type": "code",
   "execution_count": 10,
   "id": "ef1ee113",
   "metadata": {},
   "outputs": [],
   "source": [
    "snn.add_output(\"neuron_layer\")"
   ]
  },
  {
   "cell_type": "markdown",
   "id": "6b1d9ace",
   "metadata": {},
   "source": [
    "Now we are ready to run the network. Here we are going to drive the neurons with a constant input for just a few timesteps:"
   ]
  },
  {
   "cell_type": "code",
   "execution_count": 11,
   "id": "dae7cfa9",
   "metadata": {},
   "outputs": [],
   "source": [
    "u = np.random.random(10)"
   ]
  },
  {
   "cell_type": "code",
   "execution_count": 12,
   "id": "e651469d",
   "metadata": {},
   "outputs": [
    {
     "name": "stdout",
     "output_type": "stream",
     "text": [
      "[array([0., 0., 0., 0., 0., 0., 0., 0., 0., 0., 0., 0., 0., 0., 0., 0., 0.,\n",
      "       0., 0., 0.])]\n",
      "[array([1., 1., 1., 1., 1., 1., 1., 0., 0., 1., 1., 1., 1., 1., 1., 0., 1.,\n",
      "       1., 0., 1.])]\n",
      "[array([0., 0., 0., 0., 0., 0., 0., 1., 1., 0., 0., 0., 0., 0., 0., 1., 0.,\n",
      "       0., 1., 0.])]\n",
      "[array([0., 0., 0., 0., 0., 0., 0., 0., 0., 0., 0., 0., 0., 0., 0., 0., 0.,\n",
      "       0., 0., 0.])]\n",
      "[array([1., 1., 1., 1., 1., 1., 1., 0., 0., 1., 1., 1., 1., 1., 1., 0., 1.,\n",
      "       1., 0., 1.])]\n",
      "[array([0., 0., 0., 0., 0., 0., 0., 0., 0., 0., 0., 0., 0., 0., 0., 0., 0.,\n",
      "       0., 0., 0.])]\n",
      "[array([0., 0., 0., 0., 0., 0., 0., 1., 1., 0., 0., 0., 0., 0., 0., 1., 0.,\n",
      "       0., 1., 0.])]\n",
      "[array([1., 1., 1., 1., 1., 1., 1., 0., 0., 1., 1., 1., 1., 1., 1., 0., 1.,\n",
      "       1., 0., 1.])]\n",
      "[array([0., 0., 0., 0., 0., 0., 0., 0., 0., 0., 0., 0., 0., 0., 0., 0., 0.,\n",
      "       0., 0., 0.])]\n",
      "[array([0., 0., 0., 0., 0., 0., 0., 0., 0., 0., 0., 0., 0., 0., 0., 0., 0.,\n",
      "       0., 0., 0.])]\n",
      "[array([1., 1., 1., 1., 1., 1., 1., 1., 1., 1., 1., 1., 1., 1., 1., 1., 1.,\n",
      "       1., 1., 1.])]\n",
      "[array([0., 0., 0., 0., 0., 0., 0., 0., 0., 0., 0., 0., 0., 0., 0., 0., 0.,\n",
      "       0., 0., 0.])]\n",
      "[array([0., 0., 0., 0., 0., 0., 0., 0., 0., 0., 0., 0., 0., 0., 0., 0., 0.,\n",
      "       0., 0., 0.])]\n",
      "[array([1., 1., 1., 1., 1., 1., 1., 0., 0., 1., 1., 1., 1., 1., 1., 0., 1.,\n",
      "       1., 0., 1.])]\n",
      "[array([0., 0., 0., 0., 0., 0., 0., 1., 1., 0., 0., 0., 0., 0., 0., 1., 0.,\n",
      "       0., 1., 0.])]\n"
     ]
    }
   ],
   "source": [
    "for _ in range(15):\n",
    "    s = snn(u)\n",
    "    print(s)\n"
   ]
  },
  {
   "cell_type": "markdown",
   "id": "724fc595",
   "metadata": {},
   "source": [
    "At each timestep, the `SpikingNet` object returns a list with all the outputs, in this case a list with the outputs of our spiking neuron layer. In this case, a value of 1 indicated that the neuron is spiking, 0 otherwise."
   ]
  }
 ],
 "metadata": {
  "kernelspec": {
   "display_name": "Python 3",
   "language": "python",
   "name": "python3"
  },
  "language_info": {
   "codemirror_mode": {
    "name": "ipython",
    "version": 3
   },
   "file_extension": ".py",
   "mimetype": "text/x-python",
   "name": "python",
   "nbconvert_exporter": "python",
   "pygments_lexer": "ipython3",
   "version": "3.9.16"
  }
 },
 "nbformat": 4,
 "nbformat_minor": 5
}
